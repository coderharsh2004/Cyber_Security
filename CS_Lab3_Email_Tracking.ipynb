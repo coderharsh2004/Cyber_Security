{
  "nbformat": 4,
  "nbformat_minor": 0,
  "metadata": {
    "colab": {
      "provenance": [],
      "authorship_tag": "ABX9TyMWVpHNNOS2A1PNlfxbnMrr",
      "include_colab_link": true
    },
    "kernelspec": {
      "name": "python3",
      "display_name": "Python 3"
    },
    "language_info": {
      "name": "python"
    }
  },
  "cells": [
    {
      "cell_type": "markdown",
      "metadata": {
        "id": "view-in-github",
        "colab_type": "text"
      },
      "source": [
        "<a href=\"https://colab.research.google.com/github/coderharsh2004/Cyber_Security/blob/main/CS_Lab3_Email_Tracking.ipynb\" target=\"_parent\"><img src=\"https://colab.research.google.com/assets/colab-badge.svg\" alt=\"Open In Colab\"/></a>"
      ]
    },
    {
      "cell_type": "code",
      "execution_count": null,
      "metadata": {
        "colab": {
          "base_uri": "https://localhost:8080/"
        },
        "id": "YMwvRty3mnrl",
        "outputId": "a4221658-d034-4553-fb1d-0149c3d74192"
      },
      "outputs": [
        {
          "output_type": "stream",
          "name": "stdout",
          "text": [
            "Requirement already satisfied: requests in /usr/local/lib/python3.11/dist-packages (2.32.3)\n",
            "Requirement already satisfied: charset-normalizer<4,>=2 in /usr/local/lib/python3.11/dist-packages (from requests) (3.4.1)\n",
            "Requirement already satisfied: idna<4,>=2.5 in /usr/local/lib/python3.11/dist-packages (from requests) (3.10)\n",
            "Requirement already satisfied: urllib3<3,>=1.21.1 in /usr/local/lib/python3.11/dist-packages (from requests) (2.3.0)\n",
            "Requirement already satisfied: certifi>=2017.4.17 in /usr/local/lib/python3.11/dist-packages (from requests) (2024.12.14)\n"
          ]
        }
      ],
      "source": [
        "pip install requests"
      ]
    },
    {
      "cell_type": "code",
      "source": [
        "import re\n",
        "import requests\n",
        "\n",
        "\n",
        "def extract_ip_from_header(email_header):\n",
        "\n",
        "    ip_pattern = re.compile(r\"Received:.*\\[(?P<ip>\\d+\\.\\d+\\.\\d+\\.\\d+)\\]\")\n",
        "    match = ip_pattern.search(email_header)\n",
        "\n",
        "    if match:\n",
        "        return match.group(\"ip\")\n",
        "    else:\n",
        "        print(\"IP Address not found in the email header.\")\n",
        "        return None\n",
        "\n",
        "\n",
        "def get_location_by_ip(ip):\n",
        "\n",
        "    api_url = f\"https://ipinfo.io/{ip}/json\"\n",
        "    response = requests.get(api_url)\n",
        "\n",
        "    if response.status_code == 200:\n",
        "        location_data = response.json()\n",
        "        location_info = {\n",
        "            'IP': ip,\n",
        "            'Location': location_data.get('city', 'Unknown'),\n",
        "            'Region': location_data.get('region', 'Unknown'),\n",
        "            'Country': location_data.get('country', 'Unknown'),\n",
        "            'Organization': location_data.get('org', 'Unknown'),\n",
        "        }\n",
        "        return location_info\n",
        "    else:\n",
        "        return {\"Error\": \"Unable to fetch location data\"}\n",
        "\n",
        "\n",
        "email_header = \"\"\"\n",
        "Delivered-To: progamerharsh2004@gmail.com\n",
        "Received: by 2002:a17:505:5d22:b0:1c70:735a:a511 with SMTP id eg2csp2240674njc;\n",
        "        Sun, 26 Jan 2025 23:17:30 -0800 (PST)\n",
        "X-Received: by 2002:a05:6a20:734b:b0:1e1:ad39:cc5c with SMTP id adf61e73a8af0-1eb2148c742mr64533186637.14.1737962250297;\n",
        "        Sun, 26 Jan 2025 23:17:30 -0800 (PST)\n",
        "ARC-Seal: i=1; a=rsa-sha256; t=1737962250; cv=none;\n",
        "        d=google.com; s=arc-20240605;\n",
        "        b=DNpkGz74uiemKbZOlIQ4BamaYvdu0K1USXaZTc6mBdJwSh4LaxI9cxfB0o+QxVRgpO\n",
        "         VqckTBj2PLzmAPxCYbPkhZ2SwD4otSj6kuRZFwIWCowpJuyHiFT0QUrsny5v1toitA1i\n",
        "         ert7lNUQUOcHnR7hK9+i6EMOVB24JpoupKEZiFu7Y5dLpdGTH0FtlflscHEn8o0YH/rF\n",
        "         LtC6oQGs33f0luH6nQK3LoBNFr67LKNW7kr0gwb5BPiU6mQzBy2c16+DnlQEZvQiQ6rw\n",
        "         MKskQPQWKsHz6dBcLwVRbs0QkFXsObXjYrp18vECPphZHAFIaP3kqAQ0VCZNMBICiOix\n",
        "         dRvw==\n",
        "ARC-Message-Signature: i=1; a=rsa-sha256; c=relaxed/relaxed; d=google.com; s=arc-20240605;\n",
        "        h=to:message-id:subject:date:mime-version:from\n",
        "         :content-transfer-encoding:dkim-signature;\n",
        "        bh=2K92ArEWff5rLW9Ppy9l73h6WJaJLWJRi31yirOvrS8=;\n",
        "        fh=UpDsnZvErOBLr75POYAKBVsRc+h1gyT5WAPDEnwQqKc=;\n",
        "        b=j6UPBrlvcbtuSxweKfFRw6kVydRCqTYrIkLLwWjIR/L6O8jaKbpzTg2PQTA+/1k//D\n",
        "         vUFyd7m7CrJJtUV9hz9WzCLJgtURnZfdT/y//T575Q6SAAm4iUk+4RYTZiaI+GDGf1hd\n",
        "         OELGsoWNMmkZ4D2bLCyO4TMwipaZHOV7QfTpGTd0B7TEkYNIlZAOlfE1Z3ttohnUzQSz\n",
        "         W2H/iTE5e4mOSSdvItWYrTygBAkzLjHLgsPkVr7tr7ke+Bun4o+CYd19vky1Z2ijWUxn\n",
        "         rlfQhRzILJrXAhzLSJi8zjic6T7u0Sqot1tvM/s5eYMaoc/9cIl9LHyuVzwk+OTmbjJS\n",
        "         XgRg==;\n",
        "        dara=google.com\n",
        "ARC-Authentication-Results: i=1; mx.google.com;\n",
        "       dkim=pass header.i=@gmail.com header.s=20230601 header.b=LKYpPFC3;\n",
        "       spf=pass (google.com: domain of ranjansai1214@gmail.com designates 209.85.220.41 as permitted sender) smtp.mailfrom=ranjansai1214@gmail.com;\n",
        "       dmarc=pass (p=NONE sp=QUARANTINE dis=NONE) header.from=gmail.com;\n",
        "       dara=pass header.i=@gmail.com\n",
        "Return-Path: <ranjansai1214@gmail.com>\n",
        "Received: from mail-sor-f41.google.com (mail-sor-f41.google.com. [209.85.220.41])\n",
        "        by mx.google.com with SMTPS id 41be03b00d2f7-ac494831593sor3409843a12.5.2025.01.26.23.17.30\n",
        "        for <progamerharsh2004@gmail.com>\n",
        "        (Google Transport Security);\n",
        "        Sun, 26 Jan 2025 23:17:30 -0800 (PST)\n",
        "Received-SPF: pass (google.com: domain of ranjansai1214@gmail.com designates 209.85.220.41 as permitted sender) client-ip=209.85.220.41;\n",
        "Authentication-Results: mx.google.com;\n",
        "       dkim=pass header.i=@gmail.com header.s=20230601 header.b=LKYpPFC3;\n",
        "       spf=pass (google.com: domain of ranjansai1214@gmail.com designates 209.85.220.41 as permitted sender) smtp.mailfrom=ranjansai1214@gmail.com;\n",
        "       dmarc=pass (p=NONE sp=QUARANTINE dis=NONE) header.from=gmail.com;\n",
        "       dara=pass header.i=@gmail.com\n",
        "DKIM-Signature: v=1; a=rsa-sha256; c=relaxed/relaxed;\n",
        "        d=gmail.com; s=20230601; t=1737962249; x=1738567049; dara=google.com;\n",
        "        h=to:message-id:subject:date:mime-version:from\n",
        "         :content-transfer-encoding:from:to:cc:subject:date:message-id\n",
        "         :reply-to;\n",
        "        bh=2K92ArEWff5rLW9Ppy9l73h6WJaJLWJRi31yirOvrS8=;\n",
        "        b=LKYpPFC39BqhGItx5h1tTC0ABW21bbp+pu2QbEbGeoCGTu3yhqfouHwLzvho6zD8ah\n",
        "         b7D8V1p+qH8x5IuTdxEZrXy2OqyNxoaVwNVcn+Y16U0kyTrnjw+yeyoujHdzGgtJwA5l\n",
        "         2k+6XSXrHPHdZv9KW6FG16ZVmcb/bxD34GrT7GN5kDZ7VddtZieLrd4O0np7/Gn3WJBk\n",
        "         HUQ+u6RWfIqI4zntJo9XUAa4ys4SqnMi9S3qlguQfViP+pJKHQ6eexvSq+lcAoASmG3Q\n",
        "         FvsUDGdFRemN926jydNI8uQqQItSnhct9NxRWTfi2LOFLtOR55oMmrnyT1Lkf1TM70ka\n",
        "         xvtQ==\n",
        "X-Google-DKIM-Signature: v=1; a=rsa-sha256; c=relaxed/relaxed;\n",
        "        d=1e100.net; s=20230601; t=1737962249; x=1738567049;\n",
        "        h=to:message-id:subject:date:mime-version:from\n",
        "         :content-transfer-encoding:x-gm-message-state:from:to:cc:subject\n",
        "         :date:message-id:reply-to;\n",
        "        bh=2K92ArEWff5rLW9Ppy9l73h6WJaJLWJRi31yirOvrS8=;\n",
        "        b=FQSizVZf2EI1YqOTkmROSFU6Vue0apoMKsHtButx7lfC/6r+LauzaE7/BMjbQBHk2p\n",
        "         A2NaPqC1Q8pBIxkkr6hJiRiKcHJKpb+seGXoJ0nB97RtmslYFd27uqvCfgIpd/XH/hUS\n",
        "         kyUEEDF0EjPMwTHodMr82p7peoglPXVpmcUHxSVsoB2gu3RGek6dudKe+TYFrGgzPd6m\n",
        "         mWeehuGxqMmcDNuZzBdMA3VTonMO0TM9AeJuvmDasYjP77tqxW/BHSxnZZY5CFnj1G3d\n",
        "         FqzJvOe5qjCexJX5IRKhvo5IOaY61o7HtLZs04+4tcmPl+E4yUA8PpExjsliZo+BaYH4\n",
        "         aKHQ==\n",
        "X-Gm-Message-State: AOJu0YznXll0ImXZ9NIGjbkeUCCrJ2Wr/k/8PDFT4g+L1XYgMmUtMoXu eSK/0IzbqjVfTDKsOsYIlAg8YPnzkrOkpDzeJ7RatwqVgDotKCPPGA/NCw==\n",
        "X-Gm-Gg: ASbGncvgLHa7hhtBQh2lmyR/DQRCsZGHOt8kqB9cVJaAl1czbmqRR2419wBHKXE6tq8 zXFw76AAEMYikjWPafH8uXCT0JBAxa3wCjXKkDNxcS86CNi8T6xc5q2QXqZAz2N9XavOBcBkqgg w1eq8NGWhVYe5VJNZ+cp3eDHaCvgEZCbN/X9bZQSgFkVVCvTKzyoadr2pxRZa4f1uZR8+TRoXsQ nHV4xIbJ9Slh75gOwPF6K6/e7tX/bttCgXJe8dn/DpY/MsEa3Gnx8XfsvB9AIzbTrVzOvKoMTSQ ohcZ2EnHn59yFyerDLTjku0Nfcgd4hJzIeKuEg==\n",
        "X-Google-Smtp-Source: AGHT+IFnHg5RcU51T21CRHSI4BmLT8tlVKz3e13J5kdlvXL1YJVAVAz7gqL1wbnTKSFrCmbIx52niQ==\n",
        "X-Received: by 2002:a05:6a20:2443:b0:1e2:2e4:689a with SMTP id adf61e73a8af0-1eb215ec26emr63734152637.41.1737962249013;\n",
        "        Sun, 26 Jan 2025 23:17:29 -0800 (PST)\n",
        "Return-Path: <ranjansai1214@gmail.com>\n",
        "Received: from smtpclient.apple ([2401:4900:a683:d7a3:85e8:12a2:58d0:fa63])\n",
        "        by smtp.gmail.com with ESMTPSA id d2e1a72fcca58-72f8a78f13asm6585989b3a.175.2025.01.26.23.17.27\n",
        "        for <progamerharsh2004@gmail.com>\n",
        "        (version=TLS1_3 cipher=TLS_AES_128_GCM_SHA256 bits=128/128);\n",
        "        Sun, 26 Jan 2025 23:17:28 -0800 (PST)\n",
        "Content-Type: text/plain; charset=us-ascii\n",
        "Content-Transfer-Encoding: 7bit\n",
        "From: ranjansai1214@gmail.com\n",
        "Mime-Version: 1.0 (1.0)\n",
        "Date: Mon, 27 Jan 2025 12:47:15 +0530\n",
        "Subject: Hi\n",
        "Message-Id: <C10FD5AC-41D7-4712-8C7C-782D0F3C9A52@gmail.com>\n",
        "To: progamerharsh2004@gmail.com\n",
        "X-Mailer: iPhone Mail (22B91)\n",
        "\n",
        "Hi\n",
        "Sent from my iPhone\n",
        "\"\"\"\n",
        "# Extract the IP from the header\n",
        "ip_address = extract_ip_from_header(email_header)\n",
        "\n",
        "if ip_address:\n",
        "    # Get location info based on the IP address\n",
        "    location_info = get_location_by_ip(ip_address)\n",
        "    print(f\"Location information for IP {ip_address}:\")\n",
        "    print(location_info)"
      ],
      "metadata": {
        "colab": {
          "base_uri": "https://localhost:8080/"
        },
        "id": "MxnceoK6m4u1",
        "outputId": "ce0a0aba-83c0-435d-fb40-22a2d59eca08"
      },
      "execution_count": null,
      "outputs": [
        {
          "output_type": "stream",
          "name": "stdout",
          "text": [
            "Location information for IP 209.85.220.41:\n",
            "{'IP': '209.85.220.41', 'Location': 'South San Francisco', 'Region': 'California', 'Country': 'US', 'Organization': 'AS15169 Google LLC'}\n"
          ]
        }
      ]
    },
    {
      "cell_type": "markdown",
      "source": [
        "Problem Statement 1: Extract and Analyze Sender and Receiver Email Addresses"
      ],
      "metadata": {
        "id": "ZUE5DMsAp_Wk"
      }
    },
    {
      "cell_type": "code",
      "source": [
        "!pip install scapy"
      ],
      "metadata": {
        "colab": {
          "base_uri": "https://localhost:8080/"
        },
        "id": "UrEUHAVqqI6Y",
        "outputId": "a90f0657-5761-4321-d14a-14be6e0a7929"
      },
      "execution_count": null,
      "outputs": [
        {
          "output_type": "stream",
          "name": "stdout",
          "text": [
            "Requirement already satisfied: scapy in /usr/local/lib/python3.11/dist-packages (2.6.1)\n"
          ]
        }
      ]
    },
    {
      "cell_type": "code",
      "source": [
        "import warnings\n",
        "warnings.filterwarnings(\"ignore\", category=RuntimeWarning)  # Suppress RuntimeWarnings\n"
      ],
      "metadata": {
        "id": "0vy4vNhBsEOM"
      },
      "execution_count": null,
      "outputs": []
    },
    {
      "cell_type": "code",
      "source": [
        "from scapy.all import rdpcap\n",
        "from collections import Counter\n",
        "import re\n",
        "\n"
      ],
      "metadata": {
        "id": "i11NQYuwsSna"
      },
      "execution_count": null,
      "outputs": []
    },
    {
      "cell_type": "code",
      "source": [
        "def extract_email_addresses(packet):\n",
        "    sender = None\n",
        "    receiver = None\n",
        "\n",
        "    if packet.haslayer('Raw'):\n",
        "        payload = packet.getlayer('Raw').load.decode(errors='ignore')\n",
        "\n",
        "        # Look for MAIL FROM and RCPT TO in the packet payload (SMTP commands)\n",
        "        mail_from_match = re.search(r'MAIL FROM:\\s*<(.*)>', payload)\n",
        "        rcpt_to_match = re.search(r'RCPT TO:\\s*<(.*)>', payload)\n",
        "\n",
        "        if mail_from_match:\n",
        "            sender = mail_from_match.group(1)\n",
        "        if rcpt_to_match:\n",
        "            receiver = rcpt_to_match.group(1)\n",
        "\n",
        "    return sender, receiver\n"
      ],
      "metadata": {
        "id": "7LyT8k5ssdT4"
      },
      "execution_count": null,
      "outputs": []
    },
    {
      "cell_type": "code",
      "source": [
        "def analyze_pcap(file_path):\n",
        "    packets = rdpcap(file_path)\n",
        "\n",
        "    # Initialize counters for sender and receiver email addresses\n",
        "    senders = Counter()\n",
        "    receivers = Counter()\n",
        "    sender_receiver_pairs = Counter()\n",
        "\n",
        "    # Loop through each packet in the PCAP file\n",
        "    for packet in packets:\n",
        "        sender, receiver = extract_email_addresses(packet)\n",
        "\n",
        "        if sender and receiver:\n",
        "            # Increment the counters\n",
        "            senders[sender] += 1\n",
        "            receivers[receiver] += 1\n",
        "            sender_receiver_pairs[(sender, receiver)] += 1\n",
        "            top_senders = senders.most_common(5)\n",
        "    top_receivers = receivers.most_common(5)\n",
        "    top_pairs = sender_receiver_pairs.most_common(5)\n",
        "\n",
        "    return top_senders, top_receivers, top_pairs\n",
        "\n",
        "\n"
      ],
      "metadata": {
        "id": "252PrjqPsiUI"
      },
      "execution_count": null,
      "outputs": []
    },
    {
      "cell_type": "code",
      "source": [
        "def generate_report(file_path):\n",
        "    top_senders, top_receivers, top_pairs = analyze_pcap(file_path)\n",
        "\n",
        "    print(\"Top 5 Most Frequent Senders:\")\n",
        "    for sender, count in top_senders:\n",
        "        print(f\"{sender}: {count} emails\")\n",
        "\n",
        "    print(\"\\nTop 5 Most Frequent Receivers:\")\n",
        "    for receiver, count in top_receivers:\n",
        "        print(f\"{receiver}: {count} emails\")\n",
        "\n",
        "    print(\"\\nTop 5 Most Frequent Sender-Receiver Pairs:\")\n",
        "    for (sender, receiver), count in top_pairs:\n",
        "        print(f\"{sender} -> {receiver}: {count} emails\")\n",
        "\n"
      ],
      "metadata": {
        "id": "R9jXLQw_smrL"
      },
      "execution_count": null,
      "outputs": []
    },
    {
      "cell_type": "code",
      "source": [
        "# Main function\n",
        "if __name__== \"__main__\":\n",
        "    # Specify the path to the PCAP file\n",
        "    pcap_file = \"/content/fake_email_traffic.pcap\"\n",
        "\n",
        "    # Generate and print the report\n",
        "    generate_report(pcap_file)"
      ],
      "metadata": {
        "colab": {
          "base_uri": "https://localhost:8080/"
        },
        "id": "Z1kc7x8-ssHe",
        "outputId": "3c17e826-a4df-4d64-d2b7-7158c88686aa"
      },
      "execution_count": null,
      "outputs": [
        {
          "output_type": "stream",
          "name": "stdout",
          "text": [
            "Top 5 Most Frequent Senders:\n",
            "sender829@example.com: 5 emails\n",
            "sender335@example.com: 4 emails\n",
            "sender323@example.com: 4 emails\n",
            "sender233@example.com: 4 emails\n",
            "sender325@example.com: 4 emails\n",
            "\n",
            "Top 5 Most Frequent Receivers:\n",
            "receiver837@example.com: 5 emails\n",
            "receiver853@example.com: 5 emails\n",
            "receiver492@example.com: 5 emails\n",
            "receiver57@example.com: 5 emails\n",
            "receiver642@example.com: 5 emails\n",
            "\n",
            "Top 5 Most Frequent Sender-Receiver Pairs:\n",
            "sender108@example.com -> receiver386@example.com: 1 emails\n",
            "sender324@example.com -> receiver218@example.com: 1 emails\n",
            "sender644@example.com -> receiver733@example.com: 1 emails\n",
            "sender187@example.com -> receiver837@example.com: 1 emails\n",
            "sender50@example.com -> receiver309@example.com: 1 emails\n"
          ]
        }
      ]
    },
    {
      "cell_type": "markdown",
      "source": [
        "Problem Statemet 2:SMTP Command Frequency Ananlysis"
      ],
      "metadata": {
        "id": "fHZ9jjbsUJ6L"
      }
    },
    {
      "cell_type": "code",
      "source": [
        "!pip install Counter\n",
        "!pip install scapy"
      ],
      "metadata": {
        "colab": {
          "base_uri": "https://localhost:8080/"
        },
        "id": "-o0uEYtTUisp",
        "outputId": "b6d448fb-e325-4ee6-aeec-fa7c7ff52ce4"
      },
      "execution_count": 3,
      "outputs": [
        {
          "output_type": "stream",
          "name": "stdout",
          "text": [
            "Requirement already satisfied: Counter in /usr/local/lib/python3.11/dist-packages (1.0.0)\n",
            "Collecting scapy\n",
            "  Downloading scapy-2.6.1-py3-none-any.whl.metadata (5.6 kB)\n",
            "Downloading scapy-2.6.1-py3-none-any.whl (2.4 MB)\n",
            "\u001b[2K   \u001b[90m━━━━━━━━━━━━━━━━━━━━━━━━━━━━━━━━━━━━━━━━\u001b[0m \u001b[32m2.4/2.4 MB\u001b[0m \u001b[31m58.7 MB/s\u001b[0m eta \u001b[36m0:00:00\u001b[0m\n",
            "\u001b[?25hInstalling collected packages: scapy\n",
            "Successfully installed scapy-2.6.1\n"
          ]
        }
      ]
    },
    {
      "cell_type": "code",
      "source": [
        "import scapy.all as scapy\n",
        "import re\n",
        "from collections import Counter"
      ],
      "metadata": {
        "id": "waAiIrf0VSxl"
      },
      "execution_count": 5,
      "outputs": []
    },
    {
      "cell_type": "code",
      "source": [
        "# Define the SMTP commands of interest\n",
        "smtp_commands = [\"EHLO\", \"MAIL FROM\", \"RCPT TO\", \"DATA\", \"QUIT\"]\n",
        "\n",
        "# Function to extract SMTP commands from packet payload\n",
        "def extract_smtp_commands(packet):\n",
        "    smtp_payload = \"\"\n",
        "    if packet.haslayer(scapy.TCP) and packet.haslayer(scapy.Raw):\n",
        "        raw_data = packet[scapy.Raw].load.decode(errors='ignore')  # Get the raw data (SMTP payload)\n",
        "        for command in smtp_commands:\n",
        "            if command in raw_data:\n",
        "                smtp_payload += raw_data\n",
        "    return smtp_payload\n",
        "\n",
        "# Function to analyze SMTP command frequencies and sequences\n",
        "def analyze_smtp_commands(pcap_file):\n",
        "    # Initialize variables for tracking commands and sequences\n",
        "    command_counter = Counter()\n",
        "    command_sequence = []\n",
        "\n",
        "    # Read PCAP file\n",
        "    packets = scapy.rdpcap(pcap_file)\n",
        "\n",
        "    previous_command = None  # To store previous command to avoid consecutive duplicates\n",
        "\n",
        "    for packet in packets:\n",
        "        smtp_payload = extract_smtp_commands(packet)\n",
        "        if smtp_payload:\n",
        "            # Split the payload into individual commands based on newline or other delimiters\n",
        "            commands = re.findall(r\"(EHLO|MAIL FROM|RCPT TO|DATA|QUIT)\", smtp_payload)\n",
        "            for command in commands:\n",
        "                command_counter[command] += 1\n",
        "                # Avoid adding consecutive duplicate commands\n",
        "                if previous_command != command:\n",
        "                    command_sequence.append(command)\n",
        "                    previous_command = command\n",
        "\n",
        "    # Display frequency counts for each command\n",
        "    print(\"SMTP Command Frequency Analysis:\")\n",
        "    for command in smtp_commands:\n",
        "        print(f\"{command}: {command_counter[command]}\")\n",
        "\n",
        "    # Analyze the command sequence for anomalies\n",
        "    print(\"\\nCommand Sequence Analysis:\")\n",
        "\n",
        "    # Counter for unusual sequences\n",
        "    unusual_sequences = Counter()\n",
        "\n",
        "    # Limit the number of sequences to show\n",
        "    max_display = 5\n",
        "    displayed = 0\n",
        "\n",
        "    for i in range(len(command_sequence) - 1):\n",
        "        pair = (command_sequence[i], command_sequence[i + 1])\n",
        "        if pair not in command_counter:\n",
        "            unusual_sequences[pair] += 1\n",
        "            if displayed < max_display:\n",
        "                print(f\"Unusual Command Sequence: {pair}\")\n",
        "                displayed += 1\n",
        "\n",
        "    if len(unusual_sequences) > max_display:\n",
        "        print(f\"\\nTotal unusual command sequences: {len(unusual_sequences)}\")\n",
        "        print(f\"Showing the top {max_display} unusual sequences.\")\n",
        "\n",
        "    # Display the count of unusual sequences\n",
        "    print(\"\\nSummary of Unusual Sequences (Total count):\")\n",
        "    for seq, count in unusual_sequences.items():\n",
        "        print(f\"Sequence {seq}: {count} occurrences\")\n"
      ],
      "metadata": {
        "id": "vThM0HlmVoIk"
      },
      "execution_count": 6,
      "outputs": []
    },
    {
      "cell_type": "code",
      "source": [
        "if __name__ == \"__main__\":\n",
        "    pcap_file = \"/content/fake_email_traffic.pcap\"\n",
        "    analyze_smtp_commands(pcap_file)"
      ],
      "metadata": {
        "colab": {
          "base_uri": "https://localhost:8080/"
        },
        "id": "uQjRxze5V8y6",
        "outputId": "4f7cab50-4dbc-4c38-dbec-8dfc2499ba18"
      },
      "execution_count": 8,
      "outputs": [
        {
          "output_type": "stream",
          "name": "stdout",
          "text": [
            "SMTP Command Frequency Analysis:\n",
            "EHLO: 4995\n",
            "MAIL FROM: 4999\n",
            "RCPT TO: 4999\n",
            "DATA: 4999\n",
            "QUIT: 4999\n",
            "\n",
            "Command Sequence Analysis:\n",
            "Unusual Command Sequence: ('EHLO', 'MAIL FROM')\n",
            "Unusual Command Sequence: ('MAIL FROM', 'RCPT TO')\n",
            "Unusual Command Sequence: ('RCPT TO', 'DATA')\n",
            "Unusual Command Sequence: ('DATA', 'QUIT')\n",
            "Unusual Command Sequence: ('QUIT', 'EHLO')\n",
            "\n",
            "Total unusual command sequences: 6\n",
            "Showing the top 5 unusual sequences.\n",
            "\n",
            "Summary of Unusual Sequences (Total count):\n",
            "Sequence ('EHLO', 'MAIL FROM'): 4995 occurrences\n",
            "Sequence ('MAIL FROM', 'RCPT TO'): 4999 occurrences\n",
            "Sequence ('RCPT TO', 'DATA'): 4999 occurrences\n",
            "Sequence ('DATA', 'QUIT'): 4999 occurrences\n",
            "Sequence ('QUIT', 'EHLO'): 4994 occurrences\n",
            "Sequence ('QUIT', 'MAIL FROM'): 4 occurrences\n"
          ]
        }
      ]
    },
    {
      "cell_type": "markdown",
      "source": [
        "Problem Statement 3: Identify Suspicious Email Behaviour Based on IP Addresses"
      ],
      "metadata": {
        "id": "WzYO6ikKWQVl"
      }
    },
    {
      "cell_type": "code",
      "source": [
        "!pip install defaultdict"
      ],
      "metadata": {
        "colab": {
          "base_uri": "https://localhost:8080/"
        },
        "id": "pvvaPAC1WAp8",
        "outputId": "3f3a6f67-71bc-4c9c-8378-609bfb63cdcb"
      },
      "execution_count": 9,
      "outputs": [
        {
          "output_type": "stream",
          "name": "stdout",
          "text": [
            "\u001b[31mERROR: Could not find a version that satisfies the requirement defaultdict (from versions: none)\u001b[0m\u001b[31m\n",
            "\u001b[0m\u001b[31mERROR: No matching distribution found for defaultdict\u001b[0m\u001b[31m\n",
            "\u001b[0m"
          ]
        }
      ]
    },
    {
      "cell_type": "code",
      "source": [
        "import scapy.all as scapy\n",
        "from collections import defaultdict"
      ],
      "metadata": {
        "id": "uj6ndXXMWl9z"
      },
      "execution_count": 10,
      "outputs": []
    },
    {
      "cell_type": "code",
      "source": [
        "# Function to extract SMTP traffic (source IP, destination IP, and recipient)\n",
        "def extract_smtp_info(packet):\n",
        "    smtp_info = []\n",
        "    if packet.haslayer(scapy.IP) and packet.haslayer(scapy.TCP) and packet.haslayer(scapy.Raw):\n",
        "        # Extract source and destination IP addresses\n",
        "        source_ip = packet[scapy.IP].src\n",
        "        dest_ip = packet[scapy.IP].dst\n",
        "        raw_data = packet[scapy.Raw].load.decode(errors='ignore')\n",
        "\n",
        "        # Check if SMTP command like RCPT TO (recipient) exists\n",
        "        if \"RCPT TO\" in raw_data:\n",
        "            recipient = raw_data.split(\"RCPT TO:\")[1].split()[0].strip(\"<>\")\n",
        "            smtp_info.append((source_ip, dest_ip, recipient))\n",
        "\n",
        "    return smtp_info\n",
        "\n",
        "# Function to analyze suspicious email behavior based on IP addresses\n",
        "def analyze_smtp_ips(pcap_file):\n",
        "    # Dictionaries to track the behavior\n",
        "    source_to_recipients = defaultdict(set)  # Source IP -> set of recipients\n",
        "    recipient_to_sources = defaultdict(set)  # Recipient -> set of source IPs\n",
        "\n",
        "    # Read the PCAP file and analyze each packet\n",
        "    packets = scapy.rdpcap(pcap_file)\n",
        "    for packet in packets:\n",
        "        smtp_info = extract_smtp_info(packet)\n",
        "        for source_ip, dest_ip, recipient in smtp_info:\n",
        "            source_to_recipients[source_ip].add(recipient)  # Add recipient for source IP\n",
        "            recipient_to_sources[recipient].add(source_ip)  # Add source IP for recipient\n",
        "\n",
        "    # Suspicious patterns\n",
        "    suspicious_sources = []  # List of source IPs with multiple recipients\n",
        "    suspicious_recipients = []  # List of recipients with many sources\n",
        "\n",
        "    # Identify suspicious source IPs (sending multiple emails to different recipients)\n",
        "    for source_ip, recipients in source_to_recipients.items():\n",
        "        if len(recipients) > 5:  # More than 5 different recipients from the same source IP (threshold can be adjusted)\n",
        "            suspicious_sources.append((source_ip, len(recipients)))\n",
        "\n",
        "    # Identify suspicious recipients (receiving from multiple different sources)\n",
        "    for recipient, sources in recipient_to_sources.items():\n",
        "        if len(sources) > 5:  # More than 5 different source IPs sending to the same recipient (threshold can be adjusted)\n",
        "            suspicious_recipients.append((recipient, len(sources)))\n",
        "\n",
        "    # Sorting for better readability\n",
        "    suspicious_sources.sort(key=lambda x: x[1], reverse=True)\n",
        "    suspicious_recipients.sort(key=lambda x: x[1], reverse=True)\n",
        "\n",
        "    # Limit the output to the top 5 most suspicious sources and recipients\n",
        "    suspicious_sources = suspicious_sources[:5]\n",
        "    suspicious_recipients = suspicious_recipients[:5]\n",
        "\n",
        "    # Output the results\n",
        "    print(\"Suspicious Source IPs (Sending to Multiple Recipients):\")\n",
        "    if suspicious_sources:\n",
        "        for source_ip, recipient_count in suspicious_sources:\n",
        "            print(f\"Source IP: {source_ip} -> Sent to {recipient_count} different recipients\")\n",
        "    else:\n",
        "        print(\"No suspicious source IPs found.\")\n",
        "\n",
        "    print(\"\\nSuspicious Recipients (Receiving from Multiple Sources):\")\n",
        "    if suspicious_recipients:\n",
        "        for recipient, source_count in suspicious_recipients:\n",
        "            print(f\"Recipient: {recipient} -> Received from {source_count} different source IPs\")\n",
        "    else:\n",
        "        print(\"No suspicious recipients found.\")\n",
        "\n",
        "    # Optionally, return the data for further use\n",
        "    return suspicious_sources, suspicious_recipients\n"
      ],
      "metadata": {
        "id": "19jtOoOsWzcN"
      },
      "execution_count": 11,
      "outputs": []
    },
    {
      "cell_type": "code",
      "source": [
        "if __name__ == \"__main__\":\n",
        "    pcap_file = \"/content/fake_email_traffic.pcap\"\n",
        "    analyze_smtp_ips(pcap_file)"
      ],
      "metadata": {
        "colab": {
          "base_uri": "https://localhost:8080/"
        },
        "id": "MNoq6vPeW3vo",
        "outputId": "3d1726dd-3480-4c8e-b87b-0dddec446261"
      },
      "execution_count": 12,
      "outputs": [
        {
          "output_type": "stream",
          "name": "stdout",
          "text": [
            "Suspicious Source IPs (Sending to Multiple Recipients):\n",
            "Source IP: 172.16.0.3 -> Sent to 207 different recipients\n",
            "Source IP: 192.168.1.30 -> Sent to 197 different recipients\n",
            "Source IP: 192.168.1.20 -> Sent to 179 different recipients\n",
            "Source IP: 10.0.0.5 -> Sent to 167 different recipients\n",
            "Source IP: 192.168.1.10 -> Sent to 165 different recipients\n",
            "\n",
            "Suspicious Recipients (Receiving from Multiple Sources):\n",
            "No suspicious recipients found.\n"
          ]
        }
      ]
    },
    {
      "cell_type": "markdown",
      "source": [
        "Problem Statement 4: Identify Malformed or Incomplete SMTP Sessions"
      ],
      "metadata": {
        "id": "OAH-0F-kW7zD"
      }
    },
    {
      "cell_type": "code",
      "source": [
        "# Function to extract SMTP session data from the packets\n",
        "def extract_smtp_session(packet):\n",
        "    smtp_data = []\n",
        "    if packet.haslayer(scapy.IP) and packet.haslayer(scapy.TCP) and packet.haslayer(scapy.Raw):\n",
        "        raw_data = packet[scapy.Raw].load.decode(errors='ignore')\n",
        "        source_ip = packet[scapy.IP].src\n",
        "        dest_ip = packet[scapy.IP].dst\n",
        "\n",
        "        # Check for SMTP commands\n",
        "        if 'EHLO' in raw_data or 'MAIL FROM' in raw_data or 'RCPT TO' in raw_data or 'DATA' in raw_data or 'QUIT' in raw_data:\n",
        "            smtp_data.append((source_ip, dest_ip, raw_data))\n",
        "\n",
        "    return smtp_data\n",
        "\n",
        "# Function to analyze malformed or incomplete SMTP sessions\n",
        "def analyze_malformed_sessions(pcap_file):\n",
        "    sessions = defaultdict(list)\n",
        "    # Read packets from the pcap file\n",
        "    packets = scapy.rdpcap(pcap_file)\n",
        "\n",
        "    # Extract SMTP session details\n",
        "    for packet in packets:\n",
        "        smtp_info = extract_smtp_session(packet)\n",
        "        for source_ip, dest_ip, raw_data in smtp_info:\n",
        "            sessions[(source_ip, dest_ip)].append(raw_data)\n",
        "\n",
        "    # Analyze each session for anomalies\n",
        "    malformed_sessions = []\n",
        "\n",
        "    for (source_ip, dest_ip), commands in sessions.items():\n",
        "        session_report = {\"source_ip\": source_ip, \"dest_ip\": dest_ip, \"issues\": []}\n",
        "        expected_commands = [\"EHLO\", \"MAIL FROM\", \"RCPT TO\", \"DATA\", \"QUIT\"]\n",
        "        session_commands = [cmd for cmd in commands]\n",
        "\n",
        "        # Check if the session includes a QUIT command at the end\n",
        "        if \"QUIT\" not in session_commands:\n",
        "            session_report[\"issues\"].append(\"Missing QUIT command.\")\n",
        "\n",
        "        # Check for unclosed DATA command (expecting a period '.' on a line by itself)\n",
        "        if \"DATA\" in session_commands and not any(\".\\r\\n\" in cmd for cmd in session_commands):\n",
        "            session_report[\"issues\"].append(\"Unclosed DATA command.\")\n",
        "\n",
        "        # Check for missing or malformed email addresses in MAIL FROM and RCPT TO\n",
        "        for cmd in session_commands:\n",
        "            if \"MAIL FROM\" in cmd:\n",
        "                mail_from = cmd.split(\"MAIL FROM:\")[1].strip()\n",
        "                if not re.match(r\"[^@]+@[^@]+\\.[^@]+\", mail_from):\n",
        "                    session_report[\"issues\"].append(f\"Malformed MAIL FROM address: {mail_from}\")\n",
        "            if \"RCPT TO\" in cmd:\n",
        "                rcpt_to = cmd.split(\"RCPT TO:\")[1].strip()\n",
        "                if not re.match(r\"[^@]+@[^@]+\\.[^@]+\", rcpt_to):\n",
        "                    session_report[\"issues\"].append(f\"Malformed RCPT TO address: {rcpt_to}\")\n",
        "\n",
        "        if session_report[\"issues\"]:\n",
        "            malformed_sessions.append(session_report)\n",
        "\n",
        "    # Output the results\n",
        "    if malformed_sessions:\n",
        "        print(\"Malformed or Incomplete SMTP Sessions Detected:\")\n",
        "        for session in malformed_sessions:\n",
        "            print(f\"Source IP: {session['source_ip']} -> Destination IP: {session['dest_ip']}\")\n",
        "            for issue in session[\"issues\"]:\n",
        "                print(f\"  - {issue}\")\n",
        "    else:\n",
        "        print(\"No malformed or incomplete SMTP sessions detected.\")\n",
        "\n"
      ],
      "metadata": {
        "id": "YjF9uBB3W6I0"
      },
      "execution_count": 13,
      "outputs": []
    },
    {
      "cell_type": "code",
      "source": [
        "if __name__ == \"__main__\":\n",
        "    pcap_file = \"/content/fake_email_traffic.pcap\"\n",
        "    analyze_malformed_sessions(pcap_file)\n"
      ],
      "metadata": {
        "colab": {
          "base_uri": "https://localhost:8080/"
        },
        "id": "XF-Ifv5jXLoi",
        "outputId": "ce5f87e3-0c67-462d-c62f-a5126460277e"
      },
      "execution_count": 14,
      "outputs": [
        {
          "output_type": "stream",
          "name": "stdout",
          "text": [
            "Malformed or Incomplete SMTP Sessions Detected:\n",
            "Source IP: 192.168.1.20 -> Destination IP: 192.168.1.10\n",
            "  - Missing QUIT command.\n",
            "Source IP: 10.0.0.5 -> Destination IP: 192.168.1.10\n",
            "  - Missing QUIT command.\n",
            "Source IP: 192.168.1.30 -> Destination IP: 192.168.1.30\n",
            "  - Missing QUIT command.\n",
            "Source IP: 10.0.0.5 -> Destination IP: 172.16.0.3\n",
            "  - Missing QUIT command.\n",
            "Source IP: 192.168.1.30 -> Destination IP: 192.168.1.10\n",
            "  - Missing QUIT command.\n",
            "Source IP: 172.16.0.3 -> Destination IP: 10.0.0.5\n",
            "  - Missing QUIT command.\n",
            "Source IP: 192.168.1.10 -> Destination IP: 10.0.0.5\n",
            "  - Missing QUIT command.\n",
            "Source IP: 192.168.1.30 -> Destination IP: 192.168.1.20\n",
            "  - Missing QUIT command.\n",
            "Source IP: 192.168.1.10 -> Destination IP: 172.16.0.3\n",
            "  - Missing QUIT command.\n",
            "Source IP: 192.168.1.10 -> Destination IP: 192.168.1.30\n",
            "  - Missing QUIT command.\n",
            "Source IP: 172.16.0.3 -> Destination IP: 192.168.1.30\n",
            "  - Missing QUIT command.\n",
            "Source IP: 192.168.1.30 -> Destination IP: 172.16.0.3\n",
            "  - Missing QUIT command.\n",
            "Source IP: 10.0.0.5 -> Destination IP: 192.168.1.30\n",
            "  - Missing QUIT command.\n",
            "Source IP: 172.16.0.3 -> Destination IP: 192.168.1.10\n",
            "  - Missing QUIT command.\n",
            "Source IP: 172.16.0.3 -> Destination IP: 192.168.1.20\n",
            "  - Missing QUIT command.\n",
            "Source IP: 10.0.0.5 -> Destination IP: 10.0.0.5\n",
            "  - Missing QUIT command.\n",
            "Source IP: 192.168.1.10 -> Destination IP: 192.168.1.20\n",
            "  - Missing QUIT command.\n",
            "Source IP: 192.168.1.30 -> Destination IP: 10.0.0.5\n",
            "  - Missing QUIT command.\n",
            "Source IP: 192.168.1.20 -> Destination IP: 10.0.0.5\n",
            "  - Missing QUIT command.\n",
            "Source IP: 192.168.1.20 -> Destination IP: 172.16.0.3\n",
            "  - Missing QUIT command.\n",
            "Source IP: 172.16.0.3 -> Destination IP: 172.16.0.3\n",
            "  - Missing QUIT command.\n",
            "Source IP: 192.168.1.20 -> Destination IP: 192.168.1.20\n",
            "  - Missing QUIT command.\n",
            "Source IP: 192.168.1.20 -> Destination IP: 192.168.1.30\n",
            "  - Missing QUIT command.\n",
            "Source IP: 192.168.1.10 -> Destination IP: 192.168.1.10\n",
            "  - Missing QUIT command.\n",
            "Source IP: 10.0.0.5 -> Destination IP: 192.168.1.20\n",
            "  - Missing QUIT command.\n"
          ]
        }
      ]
    },
    {
      "cell_type": "code",
      "source": [],
      "metadata": {
        "id": "7a-1GhlkXOwL"
      },
      "execution_count": null,
      "outputs": []
    }
  ]
}